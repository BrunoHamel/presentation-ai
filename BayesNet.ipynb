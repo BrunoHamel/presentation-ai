{
 "cells": [
  {
   "cell_type": "code",
   "execution_count": 9,
   "metadata": {},
   "outputs": [],
   "source": [
    "install.packages(\"http://www.bnlearn.com/releases/bnlearn_latest.tar.gz\", repos = NULL)\n",
    "library('bnlearn')"
   ]
  },
  {
   "cell_type": "markdown",
   "metadata": {},
   "source": [
    "Dataset coronary (coronaire)\n",
    "\n",
    "|Nom|Description|Valeur possible|\n",
    "|---|---|---|\n",
    "|Smoking|Fumeur|yes, no|\n",
    "|M. Work|travail mental ardu|yes, no|\n",
    "|P. Work|travail physique pénible|yes, no|\n",
    "|Pressure|pression artérielle systolique|<140, >140|\n",
    "|Proteins|rapport des lipoprotéines bêta et alpha|<3, >3|\n",
    "|Family|historique familiale de maladie coronarienne|neg, pos|"
   ]
  },
  {
   "cell_type": "code",
   "execution_count": 2,
   "metadata": {},
   "outputs": [
    {
     "data": {
      "text/html": [
       "<table>\n",
       "<thead><tr><th scope=col>Smoking</th><th scope=col>M. Work</th><th scope=col>P. Work</th><th scope=col>Pressure</th><th scope=col>Proteins</th><th scope=col>Family</th></tr></thead>\n",
       "<tbody>\n",
       "\t<tr><td>no     </td><td>no     </td><td>no     </td><td>&lt;140</td><td>&lt;3  </td><td>neg    </td></tr>\n",
       "\t<tr><td>no     </td><td>no     </td><td>no     </td><td>&lt;140</td><td>&lt;3  </td><td>neg    </td></tr>\n",
       "\t<tr><td>no     </td><td>no     </td><td>no     </td><td>&lt;140</td><td>&lt;3  </td><td>neg    </td></tr>\n",
       "\t<tr><td>no     </td><td>no     </td><td>no     </td><td>&lt;140</td><td>&lt;3  </td><td>neg    </td></tr>\n",
       "\t<tr><td>no     </td><td>no     </td><td>no     </td><td>&lt;140</td><td>&lt;3  </td><td>neg    </td></tr>\n",
       "\t<tr><td>no     </td><td>no     </td><td>no     </td><td>&lt;140</td><td>&lt;3  </td><td>neg    </td></tr>\n",
       "</tbody>\n",
       "</table>\n"
      ],
      "text/latex": [
       "\\begin{tabular}{r|llllll}\n",
       " Smoking & M. Work & P. Work & Pressure & Proteins & Family\\\\\n",
       "\\hline\n",
       "\t no   & no   & no   & <140 & <3   & neg \\\\\n",
       "\t no   & no   & no   & <140 & <3   & neg \\\\\n",
       "\t no   & no   & no   & <140 & <3   & neg \\\\\n",
       "\t no   & no   & no   & <140 & <3   & neg \\\\\n",
       "\t no   & no   & no   & <140 & <3   & neg \\\\\n",
       "\t no   & no   & no   & <140 & <3   & neg \\\\\n",
       "\\end{tabular}\n"
      ],
      "text/markdown": [
       "\n",
       "Smoking | M. Work | P. Work | Pressure | Proteins | Family | \n",
       "|---|---|---|---|---|---|\n",
       "| no   | no   | no   | <140 | <3   | neg  | \n",
       "| no   | no   | no   | <140 | <3   | neg  | \n",
       "| no   | no   | no   | <140 | <3   | neg  | \n",
       "| no   | no   | no   | <140 | <3   | neg  | \n",
       "| no   | no   | no   | <140 | <3   | neg  | \n",
       "| no   | no   | no   | <140 | <3   | neg  | \n",
       "\n",
       "\n"
      ],
      "text/plain": [
       "  Smoking M. Work P. Work Pressure Proteins Family\n",
       "1 no      no      no      <140     <3       neg   \n",
       "2 no      no      no      <140     <3       neg   \n",
       "3 no      no      no      <140     <3       neg   \n",
       "4 no      no      no      <140     <3       neg   \n",
       "5 no      no      no      <140     <3       neg   \n",
       "6 no      no      no      <140     <3       neg   "
      ]
     },
     "metadata": {},
     "output_type": "display_data"
    }
   ],
   "source": [
    "data(coronary)\n",
    "bn_df <- data.frame(coronary)\n",
    "head(coronary)"
   ]
  },
  {
   "cell_type": "code",
   "execution_count": 3,
   "metadata": {},
   "outputs": [
    {
     "data": {
      "text/plain": [
       " Smoking   M. Work    P. Work   Pressure    Proteins  Family    \n",
       " no :961   no :1130   no :927   <140:1054   <3:1061   neg:1581  \n",
       " yes:880   yes: 711   yes:914   >140: 787   >3: 780   pos: 260  "
      ]
     },
     "metadata": {},
     "output_type": "display_data"
    }
   ],
   "source": [
    "summary(coronary)"
   ]
  },
  {
   "cell_type": "code",
   "execution_count": 4,
   "metadata": {},
   "outputs": [
    {
     "data": {
      "text/plain": [
       "\n",
       "  Bayesian network learned via Score-based methods\n",
       "\n",
       "  model:\n",
       "   [Smoking][P..Work|Smoking][Pressure|Smoking]\n",
       "   [M..Work|Smoking:P..Work:Pressure][Proteins|Smoking:M..Work][Family|M..Work]\n",
       "  nodes:                                 6 \n",
       "  arcs:                                  8 \n",
       "    undirected arcs:                     0 \n",
       "    directed arcs:                       8 \n",
       "  average markov blanket size:           3.00 \n",
       "  average neighbourhood size:            2.67 \n",
       "  average branching factor:              1.33 \n",
       "\n",
       "  learning algorithm:                    Hill-Climbing \n",
       "  score:                                 BIC (disc.) \n",
       "  penalization coefficient:              3.759032 \n",
       "  tests used in the learning procedure:  65 \n",
       "  optimized:                             TRUE \n"
      ]
     },
     "metadata": {},
     "output_type": "display_data"
    }
   ],
   "source": [
    "# Trouver la structure du graph avec un algorithm nommé \"max-min hill climbing\"\n",
    "res <- hc(bn_df)\n",
    "res"
   ]
  },
  {
   "cell_type": "code",
   "execution_count": 5,
   "metadata": {},
   "outputs": [
    {
     "data": {
      "image/png": "[encoded data removed]",
      "text/plain": [
       "plot without title"
      ]
     },
     "metadata": {},
     "output_type": "display_data",
     "source": "R display func"
    }
   ],
   "source": [
    "# Affichage du graph\n",
    "par(mfrow=c(1,2)) \n",
    "plot(res)\n",
    "\n",
    "# Retirer l'arc entre Family et M..Work car cela ne fait pas de sens.\n",
    "res$arcs <- res$arcs[-which((res$arcs[,'from'] == \"M..Work\" & res$arcs[,'to'] == \"Family\")),]\n",
    "# Reafficher\n",
    "plot(res)"
   ]
  },
  {
   "cell_type": "code",
   "execution_count": 6,
   "metadata": {},
   "outputs": [],
   "source": [
    "fittedbn <- bn.fit(res, data = bn_df)"
   ]
  },
  {
   "cell_type": "markdown",
   "metadata": {},
   "source": [
    "Les tables de probabilités d'un noeud (ici M..Work)"
   ]
  },
  {
   "cell_type": "code",
   "execution_count": 7,
   "metadata": {},
   "outputs": [
    {
     "data": {
      "text/plain": [
       "\n",
       "  Parameters of node M..Work (multinomial distribution)\n",
       "\n",
       "Conditional probability table:\n",
       " \n",
       ", , P..Work = no, Pressure = <140\n",
       "\n",
       "       Smoking\n",
       "M..Work        no       yes\n",
       "    no  0.2668919 0.6260504\n",
       "    yes 0.7331081 0.3739496\n",
       "\n",
       ", , P..Work = yes, Pressure = <140\n",
       "\n",
       "       Smoking\n",
       "M..Work        no       yes\n",
       "    no  0.8995434 0.8571429\n",
       "    yes 0.1004566 0.1428571\n",
       "\n",
       ", , P..Work = no, Pressure = >140\n",
       "\n",
       "       Smoking\n",
       "M..Work        no       yes\n",
       "    no  0.2745902 0.2684564\n",
       "    yes 0.7254098 0.7315436\n",
       "\n",
       ", , P..Work = yes, Pressure = >140\n",
       "\n",
       "       Smoking\n",
       "M..Work        no       yes\n",
       "    no  0.8861386 0.8385417\n",
       "    yes 0.1138614 0.1614583\n"
      ]
     },
     "metadata": {},
     "output_type": "display_data"
    }
   ],
   "source": [
    "fittedbn$M..Work"
   ]
  },
  {
   "cell_type": "code",
   "execution_count": 8,
   "metadata": {},
   "outputs": [
    {
     "data": {
      "text/html": [
       "0.613548883756736"
      ],
      "text/latex": [
       "0.613548883756736"
      ],
      "text/markdown": [
       "0.613548883756736"
      ],
      "text/plain": [
       "[1] 0.6135489"
      ]
     },
     "metadata": {},
     "output_type": "display_data"
    },
    {
     "data": {
      "text/html": [
       "0.615384615384615"
      ],
      "text/latex": [
       "0.615384615384615"
      ],
      "text/markdown": [
       "0.615384615384615"
      ],
      "text/plain": [
       "[1] 0.6153846"
      ]
     },
     "metadata": {},
     "output_type": "display_data"
    },
    {
     "data": {
      "text/html": [
       "0.431857191898387"
      ],
      "text/latex": [
       "0.431857191898387"
      ],
      "text/markdown": [
       "0.431857191898387"
      ],
      "text/plain": [
       "[1] 0.4318572"
      ]
     },
     "metadata": {},
     "output_type": "display_data"
    }
   ],
   "source": [
    "# Probabilité que proteins soit < 3 si pas fumeur\n",
    "cpquery(fittedbn, \n",
    "        event = (Proteins==\"<3\"), \n",
    "        evidence = (Smoking==\"no\"))\n",
    "\n",
    "# Probabilité que proteins soit < 3 si pas fumeur et a une pression de > 140\n",
    "cpquery(fittedbn, \n",
    "        event = (Proteins==\"<3\"), \n",
    "        evidence = (Smoking==\"no\" & Pressure==\">140\"))\n",
    "\n",
    "# Probabilité que pressure soit > 140 si proteins est < 3\n",
    "cpquery(fittedbn, \n",
    "        event = (Pressure==\">140\"), \n",
    "        evidence = (Proteins==\"<3\"))"
   ]
  }
 ],
 "metadata": {
  "kernelspec": {
   "display_name": "R",
   "language": "R",
   "name": "ir"
  },
  "language_info": {
   "codemirror_mode": "r",
   "file_extension": ".r",
   "mimetype": "text/x-r-source",
   "name": "R",
   "pygments_lexer": "r",
   "version": "3.5.1"
  }
 },
 "nbformat": 4,
 "nbformat_minor": 2
}
